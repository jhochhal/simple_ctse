{
 "cells": [
  {
   "cell_type": "code",
   "execution_count": 57,
   "metadata": {},
   "outputs": [
    {
     "data": {
      "text/html": [
       "<script>requirejs.config({paths: { 'plotly': ['https://cdn.plot.ly/plotly-latest.min']},});if(!window.Plotly) {{require(['plotly'],function(plotly) {window.Plotly=plotly;});}}</script>"
      ],
      "text/vnd.plotly.v1+html": [
       "<script>requirejs.config({paths: { 'plotly': ['https://cdn.plot.ly/plotly-latest.min']},});if(!window.Plotly) {{require(['plotly'],function(plotly) {window.Plotly=plotly;});}}</script>"
      ]
     },
     "metadata": {},
     "output_type": "display_data"
    }
   ],
   "source": [
    "from plotly.offline import download_plotlyjs, init_notebook_mode, plot, iplot\n",
    "import plotly.graph_objs as go\n",
    "#init_notebook_mode(connected=True)"
   ]
  },
  {
   "cell_type": "code",
   "execution_count": 58,
   "metadata": {
    "collapsed": true
   },
   "outputs": [],
   "source": [
    "from __future__ import print_function\n",
    "from ipywidgets import interact, interactive, fixed, interact_manual\n",
    "import ipywidgets as widgets"
   ]
  },
  {
   "cell_type": "code",
   "execution_count": 59,
   "metadata": {
    "collapsed": true
   },
   "outputs": [],
   "source": [
    "import numpy as np\n",
    "import sympy as sy\n",
    "import math\n",
    "import cmath"
   ]
  },
  {
   "cell_type": "markdown",
   "metadata": {},
   "source": [
    "Define the function to analyze.  This function should be defined in sympy.functions and depend on one variable, $x$."
   ]
  },
  {
   "cell_type": "code",
   "execution_count": 60,
   "metadata": {
    "collapsed": true
   },
   "outputs": [],
   "source": [
    "x = sy.Symbol('x')\n",
    "def get_fx():\n",
    "    f = sy.functions.exp(x)\n",
    "    \n",
    "    return f"
   ]
  },
  {
   "cell_type": "markdown",
   "metadata": {},
   "source": [
    "Define the complex version of the function above.  This function should be defined in cmath."
   ]
  },
  {
   "cell_type": "code",
   "execution_count": 61,
   "metadata": {
    "collapsed": true
   },
   "outputs": [],
   "source": [
    "def eval_cfx(z):\n",
    "    f = cmath.exp(z)\n",
    "    \n",
    "    return f"
   ]
  },
  {
   "cell_type": "markdown",
   "metadata": {},
   "source": [
    "Define the analysis bounds (lower and upper) and resolution (step)."
   ]
  },
  {
   "cell_type": "code",
   "execution_count": 62,
   "metadata": {
    "collapsed": true
   },
   "outputs": [],
   "source": [
    "lower, upper, step = (0, 5, 0.1)"
   ]
  },
  {
   "cell_type": "markdown",
   "metadata": {},
   "source": [
    "For intended functionality, you shouldn't need to change anything below here.\n",
    "Just interact with the sliders."
   ]
  },
  {
   "cell_type": "code",
   "execution_count": 63,
   "metadata": {
    "collapsed": true
   },
   "outputs": [],
   "source": [
    "def get_fx_eval(fx, arg):    \n",
    "    \n",
    "    return fx.evalf(subs={x:arg})"
   ]
  },
  {
   "cell_type": "code",
   "execution_count": 64,
   "metadata": {
    "collapsed": true
   },
   "outputs": [],
   "source": [
    "def get_fx_vals(fx, name, lower, upper, step):\n",
    "    x_vals = np.arange(lower, upper, step)\n",
    "    y_vals = np.empty(x_vals.shape)\n",
    "    for idx, x_val in np.ndenumerate(x_vals):\n",
    "        y_vals[idx] = get_fx_eval(fx, x_val)\n",
    "        \n",
    "    return go.Scatter(name=name, x=x_vals, y=y_vals)"
   ]
  },
  {
   "cell_type": "code",
   "execution_count": 65,
   "metadata": {},
   "outputs": [],
   "source": [
    "def plot_taylor(fx, x0, n):\n",
    "    p = 0\n",
    "    for i in range(n+1):\n",
    "        p += (fx.diff(x, i).subs(x, x0)) / (math.factorial(i)) * (x - x0) ** i\n",
    "    \n",
    "    fx_vals = get_fx_vals(fx, str(fx), lower, upper, step)\n",
    "    taylor_vals = get_fx_vals(p, 'taylor expans.', lower, upper, step)\n",
    "    cur_pt = go.Scatter(x=np.array([x0]), y=np.array([get_fx_eval(fx, x0)], dtype=float),\n",
    "                        text=['x0'], mode='markers+text', textposition='top center', name='tracer')\n",
    "    iplot([fx_vals, taylor_vals, cur_pt])\n",
    "    \n",
    "    return p"
   ]
  },
  {
   "cell_type": "code",
   "execution_count": 66,
   "metadata": {},
   "outputs": [
    {
     "data": {
      "application/vnd.jupyter.widget-view+json": {
       "model_id": "87010513b78547939a2eb56c427623fa",
       "version_major": 2,
       "version_minor": 0
      },
      "text/plain": [
       "A Jupyter Widget"
      ]
     },
     "metadata": {},
     "output_type": "display_data"
    }
   ],
   "source": [
    "w = interact(plot_taylor, fx=fixed(get_fx()), x0=(0,5,1), n=(0,10,1))"
   ]
  },
  {
   "cell_type": "code",
   "execution_count": 67,
   "metadata": {
    "collapsed": true
   },
   "outputs": [],
   "source": [
    "def get_cfx_data(x_vals, h):\n",
    "    y_vals = np.empty(x_vals.shape)\n",
    "    for idx, x_val in np.ndenumerate(x_vals):\n",
    "        c_val = x_val + 1j*h\n",
    "        y_vals[idx] = eval_cfx(c_val).imag / h\n",
    "        \n",
    "    return y_vals"
   ]
  },
  {
   "cell_type": "code",
   "execution_count": 68,
   "metadata": {
    "collapsed": true
   },
   "outputs": [],
   "source": [
    "def get_central_diff_data(x_vals, h):\n",
    "    y_vals = np.empty(x_vals.shape)\n",
    "    for idx, x_val in np.ndenumerate(x_vals):\n",
    "        y_vals[idx] = (eval_cfx(x_val + h).real - eval_cfx(x_val - h).real) / (2 * h)\n",
    "        \n",
    "    return y_vals"
   ]
  },
  {
   "cell_type": "code",
   "execution_count": 69,
   "metadata": {},
   "outputs": [],
   "source": [
    "def plot_derivs(fx, n):  \n",
    "    h = 10 ** n\n",
    "    x_vals = np.arange(lower, upper, step)\n",
    "    \n",
    "    sym_deriv = fx.diff(x, 1)\n",
    "    der_y_vals = get_fx_vals(sym_deriv, str(sym_deriv), lower, upper, step)\n",
    "    cfx_y_vals = get_cfx_data(x_vals, h)\n",
    "    cdiff_y_vals = get_central_diff_data(x_vals, h)\n",
    "    \n",
    "    cfx_rel_err = (der_y_vals['y'] - cfx_y_vals) / der_y_vals['y'] * 100\n",
    "    cdiff_rel_err = (der_y_vals['y'] - cdiff_y_vals) / der_y_vals['y'] * 100\n",
    "    \n",
    "    cfx_vals_trace = go.Scatter(name='ctse diff.', x=x_vals, y=cfx_y_vals)\n",
    "    cdiff_vals_trace = go.Scatter(name='central diff.', x=x_vals, y=cdiff_y_vals)\n",
    "    cfx_err_trace = go.Scatter(name='ctse diff. err.', x=x_vals, y=cfx_rel_err, yaxis='y2')\n",
    "    cdiff_err_trace = go.Scatter(name='central diff. err.', x=x_vals, y=cdiff_rel_err, yaxis='y2')\n",
    "\n",
    "    layout = go.Layout(yaxis=dict(title='Derivative Values'),\n",
    "                       yaxis2=dict(title='Relative Error [%]', overlaying='y', side='right'))\n",
    "    plot_data = [der_y_vals, cfx_vals_trace, cdiff_vals_trace, cfx_err_trace, cdiff_err_trace]\n",
    "    comp_fig = go.Figure(data=plot_data, layout=layout)\n",
    "    iplot(comp_fig)\n",
    "    \n",
    "    return None"
   ]
  },
  {
   "cell_type": "markdown",
   "metadata": {},
   "source": [
    "Note, the step size used by the numerical differentiation formulas, $h$, is defined here as:\n",
    "\n",
    "$$h = 10^n$$"
   ]
  },
  {
   "cell_type": "code",
   "execution_count": 70,
   "metadata": {},
   "outputs": [
    {
     "data": {
      "application/vnd.jupyter.widget-view+json": {
       "model_id": "f3ade7bc86314c5b8f2d8dc0b754eb20",
       "version_major": 2,
       "version_minor": 0
      },
      "text/plain": [
       "A Jupyter Widget"
      ]
     },
     "metadata": {},
     "output_type": "display_data"
    }
   ],
   "source": [
    "cw = interact(plot_derivs, fx=fixed(get_fx()), n=(-20, 0, 1))"
   ]
  }
 ],
 "metadata": {
  "kernelspec": {
   "display_name": "Python 3",
   "language": "python",
   "name": "python3"
  },
  "language_info": {
   "codemirror_mode": {
    "name": "ipython",
    "version": 3
   },
   "file_extension": ".py",
   "mimetype": "text/x-python",
   "name": "python",
   "nbconvert_exporter": "python",
   "pygments_lexer": "ipython3",
   "version": "3.6.3"
  }
 },
 "nbformat": 4,
 "nbformat_minor": 2
}
